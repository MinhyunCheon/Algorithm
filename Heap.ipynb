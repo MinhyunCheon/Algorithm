{
 "cells": [
  {
   "cell_type": "code",
   "execution_count": 16,
   "id": "f0e37d97-ab05-4218-95e0-98231c46743c",
   "metadata": {},
   "outputs": [],
   "source": [
    "# Heap 공식 : heap[k] <= heap[2 * k + 1] and heap[k] <= heap[2 * k + 2]\n",
    "# 파이썬은 Min Heap으로 Heap의 가장 작은 요소는 항상 Root인 heap[0]\n",
    "\n",
    "import heapq\n",
    "\n",
    "temp = [1, 2, 3, 9, 10, 12]\n",
    "h = []"
   ]
  },
  {
   "cell_type": "code",
   "execution_count": 17,
   "id": "b2a31429-be60-49bf-9d2b-5eefe0f0ed91",
   "metadata": {},
   "outputs": [
    {
     "name": "stdout",
     "output_type": "stream",
     "text": [
      "[1]\n",
      "[1, 2]\n",
      "[1, 2, 3]\n",
      "[1, 2, 3, 9]\n",
      "[1, 2, 3, 9, 10]\n",
      "[1, 2, 3, 9, 10, 12]\n"
     ]
    }
   ],
   "source": [
    "for x in temp:\n",
    "    heapq.heappush(h, x)\n",
    "    print(h)"
   ]
  },
  {
   "cell_type": "code",
   "execution_count": 23,
   "id": "2c2ed3f1-4b9a-4a18-af66-6802ca74ce76",
   "metadata": {},
   "outputs": [
    {
     "name": "stdout",
     "output_type": "stream",
     "text": [
      "[1, 2, 3, 9, 10, 12]\n"
     ]
    }
   ],
   "source": [
    "heapq.heapify(temp)\n",
    "print(temp)"
   ]
  },
  {
   "cell_type": "code",
   "execution_count": 18,
   "id": "ac510e2d-4c2a-4767-b2d3-d7c5c4ed7a8e",
   "metadata": {},
   "outputs": [
    {
     "name": "stdout",
     "output_type": "stream",
     "text": [
      "[2, 9, 3, 12, 10]\n"
     ]
    }
   ],
   "source": [
    "a = heapq.heappop(h)\n",
    "print(h)"
   ]
  },
  {
   "cell_type": "code",
   "execution_count": 19,
   "id": "19fa0f4b-2182-4ce4-89c2-3f3b8701355c",
   "metadata": {},
   "outputs": [
    {
     "name": "stdout",
     "output_type": "stream",
     "text": [
      "[3, 9, 10, 12]\n"
     ]
    }
   ],
   "source": [
    "b = (heapq.heappop(h) * 2)\n",
    "print(h)"
   ]
  },
  {
   "cell_type": "code",
   "execution_count": 20,
   "id": "8f7ee88e-cb9f-4e1e-a560-495c601d33d3",
   "metadata": {},
   "outputs": [
    {
     "name": "stdout",
     "output_type": "stream",
     "text": [
      "[3, 5, 10, 12, 9]\n"
     ]
    }
   ],
   "source": [
    "heapq.heappush(h, a + b)\n",
    "print(h)"
   ]
  },
  {
   "cell_type": "code",
   "execution_count": 21,
   "id": "870950da-c762-4380-b4cf-5768d988ba03",
   "metadata": {},
   "outputs": [
    {
     "name": "stdout",
     "output_type": "stream",
     "text": [
      "[1, 5, 3, 12, 9, 10]\n"
     ]
    }
   ],
   "source": [
    "heapq.heappush(h, 1)\n",
    "print(h)"
   ]
  },
  {
   "cell_type": "code",
   "execution_count": 22,
   "id": "44c08eb8-0526-4440-ae90-3c16dcca9a0f",
   "metadata": {},
   "outputs": [
    {
     "name": "stdout",
     "output_type": "stream",
     "text": [
      "[1, 5, 3, 12, 9, 10]\n"
     ]
    }
   ],
   "source": [
    "heapq.heapify(h)\n",
    "print(h)"
   ]
  },
  {
   "cell_type": "markdown",
   "id": "e8fdfe99-671b-45ca-8972-68c0858c007c",
   "metadata": {},
   "source": [
    "### Heap 공식대로라면 오름차순 정렬의 결과가 나와야하지만 순서가 바뀌어 이것저것 시도하며 확인\n",
    "### https://stackoverflow.com/questions/18118090/python-heapq-not-being-pushed-in-right-order\n",
    "### 한글 검색 시, 마땅한 정보가 없어 영어로 검색하니 비슷한 의구심을 가진 질문에 대한 답변을 찾을 수 있었음\n",
    "The heapq functions do not keep your list sorted, but only guarantee that the heap property is maintained:\n",
    "\n",
    "heap[k] <= heap[2*k+1]\n",
    "heap[k] <= heap[2*k+2]\n",
    "Consequently, heap[0] is always the smallest item.\n",
    "\n",
    "When you want to iterate over the items in order of priority, you cannot simply iterate over the heap but need to pop() items off until the queue is empty. heappop() will take the first item, then reorganize the list to fulfil the heap invariant.\n",
    "\n",
    "See also: http://en.wikipedia.org/wiki/Heap_(data_structure)"
   ]
  }
 ],
 "metadata": {
  "kernelspec": {
   "display_name": "Python 3",
   "language": "python",
   "name": "python3"
  },
  "language_info": {
   "codemirror_mode": {
    "name": "ipython",
    "version": 3
   },
   "file_extension": ".py",
   "mimetype": "text/x-python",
   "name": "python",
   "nbconvert_exporter": "python",
   "pygments_lexer": "ipython3",
   "version": "3.8.8"
  }
 },
 "nbformat": 4,
 "nbformat_minor": 5
}
